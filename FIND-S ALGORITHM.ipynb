{
 "cells": [
  {
   "cell_type": "code",
   "execution_count": 1,
   "id": "7448c026",
   "metadata": {},
   "outputs": [],
   "source": [
    "import pandas as pd\n",
    "import numpy as np"
   ]
  },
  {
   "cell_type": "code",
   "execution_count": 2,
   "id": "513be56b",
   "metadata": {},
   "outputs": [],
   "source": [
    "data= pd.read_csv('FINDS')"
   ]
  },
  {
   "cell_type": "code",
   "execution_count": 3,
   "id": "bb22180b",
   "metadata": {},
   "outputs": [
    {
     "name": "stdout",
     "output_type": "stream",
     "text": [
      "   AMBIANCE VEG/NONVEG  CUISINE      PRICE HYGIENE PREFERRED?\n",
      "0  PLEASANT     NONVEG   INDIAN     MODEST    HIGH        YES\n",
      "1  PLEASANT     NONVEG  CHINESE  EXPENSIVE     LOW         NO\n",
      "2   CROWDED        VEG  MAXICAN      CHEAP     LOW         NO\n",
      "3  PLEASANT     NONVEG  ITALIAN     MODEST    HIGH        YES\n",
      "4   CROWDED        VEG  ITALIAN  EXPENSIVE     LOW         NO\n",
      "5   CROWDED     NONVEG  MAXICAN     MODEST    HIGH        YES\n",
      "6  PLEASANT        VEG  CHINESE      CHEAP     LOW         NO\n",
      "7  PLEASANT     NONVEG   INDIAN     MODEST    HIGH        YES\n"
     ]
    }
   ],
   "source": [
    "print(data)"
   ]
  },
  {
   "cell_type": "code",
   "execution_count": 4,
   "id": "39c0cdd6",
   "metadata": {},
   "outputs": [
    {
     "name": "stdout",
     "output_type": "stream",
     "text": [
      "The attributes are:  [['PLEASANT' 'NONVEG' 'INDIAN' 'MODEST' 'HIGH']\n",
      " ['PLEASANT' 'NONVEG' 'CHINESE' 'EXPENSIVE' 'LOW']\n",
      " ['CROWDED' 'VEG' 'MAXICAN' 'CHEAP' 'LOW']\n",
      " ['PLEASANT' 'NONVEG' 'ITALIAN' 'MODEST' 'HIGH']\n",
      " ['CROWDED' 'VEG' 'ITALIAN' 'EXPENSIVE' 'LOW']\n",
      " ['CROWDED' 'NONVEG' 'MAXICAN' 'MODEST' 'HIGH']\n",
      " ['PLEASANT' 'VEG' 'CHINESE' 'CHEAP' 'LOW']\n",
      " ['PLEASANT' 'NONVEG' 'INDIAN' 'MODEST' 'HIGH']]\n"
     ]
    }
   ],
   "source": [
    "concept=np.array(data)[:,:-1]\n",
    "print(\"The attributes are: \", concept)"
   ]
  },
  {
   "cell_type": "code",
   "execution_count": 5,
   "id": "7c8f809e",
   "metadata": {},
   "outputs": [
    {
     "name": "stdout",
     "output_type": "stream",
     "text": [
      "The target is:  ['YES' 'NO' 'NO' 'YES' 'NO' 'YES' 'NO' 'YES']\n"
     ]
    }
   ],
   "source": [
    "target=np.array(data)[:,-1]\n",
    "print(\"The target is: \", target)"
   ]
  },
  {
   "cell_type": "code",
   "execution_count": 6,
   "id": "48efd7d3",
   "metadata": {},
   "outputs": [],
   "source": [
    "def train(con, tar):\n",
    "    for i, val in enumerate(tar):\n",
    "        if val == \"YES\":\n",
    "            specific_h = con[i].copy()\n",
    "            break\n",
    "            \n",
    "    for i, val in enumerate(con):\n",
    "        if tar[i] == \"YES\":\n",
    "            for x in range(len(specific_h)):\n",
    "                if val[x] != specific_h[x]:\n",
    "                    specific_h[x] = '?'\n",
    "                else:\n",
    "                    pass\n",
    "    return specific_h"
   ]
  },
  {
   "cell_type": "code",
   "execution_count": 7,
   "id": "a76c1cda",
   "metadata": {},
   "outputs": [
    {
     "name": "stdout",
     "output_type": "stream",
     "text": [
      "['?' 'NONVEG' '?' 'MODEST' 'HIGH']\n"
     ]
    }
   ],
   "source": [
    "print(train(concept, target))"
   ]
  },
  {
   "cell_type": "code",
   "execution_count": null,
   "id": "e8a3f357",
   "metadata": {},
   "outputs": [],
   "source": []
  }
 ],
 "metadata": {
  "kernelspec": {
   "display_name": "Python 3 (ipykernel)",
   "language": "python",
   "name": "python3"
  },
  "language_info": {
   "codemirror_mode": {
    "name": "ipython",
    "version": 3
   },
   "file_extension": ".py",
   "mimetype": "text/x-python",
   "name": "python",
   "nbconvert_exporter": "python",
   "pygments_lexer": "ipython3",
   "version": "3.7.9"
  }
 },
 "nbformat": 4,
 "nbformat_minor": 5
}
